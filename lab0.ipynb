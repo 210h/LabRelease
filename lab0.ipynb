{
 "cells": [
  {
   "cell_type": "markdown",
   "id": "8b95a1a1-f701-431a-860f-63f62272ab68",
   "metadata": {},
   "source": [
    "# Lab 0\n",
    "## Introduction to Python and LaTeX"
   ]
  },
  {
   "cell_type": "code",
   "execution_count": null,
   "id": "9968becb-884f-4e16-9c46-347ac2b97fa3",
   "metadata": {},
   "outputs": [],
   "source": [
    "# Install dependencies!\n",
    "!pip3 install numpy scipy matplotlib schemdraw"
   ]
  },
  {
   "cell_type": "markdown",
   "id": "31d9ee77-c847-4f65-ad3e-b564ec52676d",
   "metadata": {},
   "source": [
    "We'll go through Python basics in class. Once you familiarize yourself with the fundamentals, make sure that you understand each of the examples below. Unlike what you may be used to, whitespace in Python changes the behavior of the code!"
   ]
  },
  {
   "cell_type": "code",
   "execution_count": null,
   "id": "71ef11d1-9855-4cb1-b956-46f847a42501",
   "metadata": {},
   "outputs": [],
   "source": [
    "# basic arithmetic and printing\n",
    "a = 1\n",
    "b = 2\n",
    "print(\"sum of a and b:\")\n",
    "print(a + b)"
   ]
  },
  {
   "cell_type": "code",
   "execution_count": null,
   "id": "deae4764-fe04-434f-91c2-3887e6d88733",
   "metadata": {},
   "outputs": [],
   "source": [
    "finished = False\n",
    "\n",
    "# Lines which start with '#' are commented out! \n",
    "\n",
    "# finished = ... \n",
    "# replace the ... with something to change the behavior\n",
    "\n",
    "if not finished:\n",
    "    print(\"Do your homework!\")\n",
    "else:\n",
    "    print(\"Great, you're done with your homework\")\n",
    "\n",
    "# Just like in many other languages, there's an else-if construct called \"elif\"\n",
    "\n",
    "course = \"ECE500\"\n",
    "\n",
    "if course == \"ECE340\":\n",
    "    print(\"Ouch, good luck!\")\n",
    "elif course == \"ECE210\":\n",
    "    print(\"I believe in you!\")\n",
    "else:\n",
    "    print(\"I haven't taken that class before\")\n"
   ]
  },
  {
   "cell_type": "code",
   "execution_count": null,
   "id": "64349b97-14b9-4868-abcd-a9e04f787b53",
   "metadata": {},
   "outputs": [],
   "source": [
    "# Loops are very important for this class\n",
    "print(\"with for loop:\")\n",
    "for x in range(0, 10):\n",
    "    print(x)\n",
    "\n",
    "print(\"with while loop:\")\n",
    "# here's a while loop which does the same thing\n",
    "x = 0\n",
    "while x < 10:\n",
    "    print(x)\n",
    "    x = x + 1"
   ]
  },
  {
   "cell_type": "code",
   "execution_count": null,
   "id": "88b9918a-4baa-4d96-9165-66f559cf76da",
   "metadata": {},
   "outputs": [],
   "source": [
    "# We'll also be working a lot with lists\n",
    "numbers = [1, 2, 3, 4, 5]\n",
    "\n",
    "print(numbers[0])\n",
    "\n",
    "# list slicing lets you access ranges of numbers\n",
    "print(numbers[2:4])\n",
    "\n",
    "# lists can be appended to\n",
    "numbers.append(6)\n",
    "print(numbers)\n",
    "\n",
    "# you can also modify in-place\n",
    "numbers[0] = -1\n",
    "print(numbers)"
   ]
  },
  {
   "cell_type": "code",
   "execution_count": null,
   "id": "6212c07f-0f67-4120-acb9-bc0823e61926",
   "metadata": {},
   "outputs": [],
   "source": [
    "# Functions in python are defined using the `def` keyword.\n",
    "\n",
    "def square(x):\n",
    "    return x * x\n",
    "\n",
    "for x in [1, 2, 3, 4, 5]:\n",
    "    print(square(x))"
   ]
  },
  {
   "cell_type": "markdown",
   "id": "694bd9d4-8a70-4e7f-a30f-7183e80ba62a",
   "metadata": {},
   "source": [
    "For future labs, we'll mostly be using two Python libraries: numpy and matplotlib. `numpy` comes with many built-in linear algebra functions and makes it faster and easier to work with vectors and matrices. `matplotlib` is a graphing library which we'll use to visualize our signals and functions. "
   ]
  },
  {
   "cell_type": "code",
   "execution_count": 7,
   "id": "777db138-e1b2-45b7-9507-5294a9543534",
   "metadata": {},
   "outputs": [],
   "source": [
    "# import the two libraries, and \"rename\" them so they're faster to type.\n",
    "import numpy as np\n",
    "import matplotlib.pyplot as plt"
   ]
  },
  {
   "cell_type": "markdown",
   "id": "713e781f-1612-47ae-beaf-14c4ef5425ab",
   "metadata": {},
   "source": [
    "Numpy allows us to quickly create and transform sequences of datapoints. Here's an example where we generate a set of points y(x) = cos(x). I would highly recommend familiarizing yourself with numpy documentation for future labs: [https://numpy.org/doc/stable/](https://numpy.org/doc/stable/)"
   ]
  },
  {
   "cell_type": "code",
   "execution_count": 8,
   "id": "3b83de87-b41d-4516-b06f-cd469858c877",
   "metadata": {},
   "outputs": [],
   "source": [
    "# first, generate 100 equally spaced points from 0 to 4 pi\n",
    "x = np.linspace(0, 4 * np.pi, 100)\n",
    "# next, for each point in x, compute y(x)\n",
    "y = np.cos(x)\n",
    "\n",
    "# you can print out x and y to verify that the computation was correct."
   ]
  },
  {
   "cell_type": "markdown",
   "id": "8104bb9d-8bdc-4213-8ba1-8fc645240a18",
   "metadata": {},
   "source": [
    "Let's plot this function in matplotlib!"
   ]
  },
  {
   "cell_type": "code",
   "execution_count": null,
   "id": "73e17a0e-1f32-498e-a9e8-b2f6f3662f42",
   "metadata": {},
   "outputs": [],
   "source": [
    "# tell plt to draw a line through all the (x,y) points in order\n",
    "plt.plot(x, y);"
   ]
  },
  {
   "cell_type": "markdown",
   "id": "f4dff06c-d7fc-494b-a9d9-50aaf6f6d4de",
   "metadata": {},
   "source": [
    "Occasionally, we may ask you to write a mathematical equation. LaTeX is a typesetting tool which makes it much easier to embed equations into your work. \n",
    "\n",
    "Jupyter notebook cells (mostly) come in two forms: Markdown and Code. Code cells are usually the default in Jupyter notebooks - by clicking the run button, you can run the code and the output appears below. Markdown cells, like this one, will look like regular text. You can edit these cells by double clicking on them. You can write LaTeX code in Markdown cells to include equations in your Jupyter Notebook."
   ]
  },
  {
   "cell_type": "markdown",
   "id": "1ba0cfc5-8e53-4cdc-8659-0b29ce76c221",
   "metadata": {},
   "source": [
    "To start writing LaTeX code in Markdown, type `$$`. Everything between the `$` signs will be interpreted as inline LaTeX. \n",
    "\n",
    "Try editing this equation to make it correct: $1 + 2 + 3 + 4 + 5 = 2 * 6$"
   ]
  },
  {
   "cell_type": "markdown",
   "id": "fc6cfec5-7815-4dd5-8011-ebf603d92a54",
   "metadata": {},
   "source": [
    "Sometimes, you may want to display a symbol which isn't possible to type - for example, a fraction. LaTeX can help you display these symbols using commands. Commands start with the `\\` character, and arguments for the command fall in `{}`. I've written out a couple of example commands below which you'll find useful for this class:\n",
    "\n",
    "$\\sin{x} = \\pi$\n",
    "\n",
    "$\\frac{1}{2} = 0.5$\n",
    "\n",
    "$\\int x dx = \\frac{x^2}{2}$"
   ]
  },
  {
   "cell_type": "markdown",
   "id": "1ffb35c0-b1e8-4a9d-b2b8-e91e3802343f",
   "metadata": {},
   "source": [
    "One more thing - you can access subscripts and superscripts in LaTeX using `_` and `^`. Keep in mind that by default, the superscript will only apply to the next character, so you may need grouping symbols to get what you want.\n",
    "\n",
    "$e^{j \\theta} = \\cos (\\theta) + j \\sin (\\theta)$\n",
    "\n",
    "Try fixing the typesetting in this expression:\n",
    "\n",
    "$V_1 + V_2 = V_sum$"
   ]
  },
  {
   "cell_type": "markdown",
   "id": "207b1a0d-e62f-4077-b047-4e19b291be3b",
   "metadata": {},
   "source": [
    "## Exercises\n",
    "For exercises in this class, fill in your answers in place of `...` or `YOUR ANSWER HERE`. **Do not create new cells, as it may cause the autograder to not be able to find your work**."
   ]
  },
  {
   "cell_type": "markdown",
   "id": "13e2ef26-fffb-409f-b5e3-bb1f354ca08d",
   "metadata": {},
   "source": [
    "### Exercise 1\n",
    "\n",
    "A sine sweep is a modified sine wave, where the frequency of the wave increases as a function of time. Given a function $f(t)$ which provides the frequency of the wave as a function of time, the equation of a sine sweep follows:\n",
    "\n",
    "$$y = \\sin (2 \\pi \\times f(t) \\times t)$$\n",
    "\n",
    "1. Use `np.linspace` to generate an array of 1000 evenly spaced times, starting at 0 and ending at 1.5 seconds. Call this array `t`.\n",
    "2. Generate an array of 1000 evenly spaced frequencies, starting at 1Hz and ending at 10Hz. You can either generate this using `np.linspace` or write an expression in terms of `t`. Call this array `f`.\n",
    "3. Compute `y` using the expression given above.\n",
    "4. Use matplotlib to plot `y` as a function of time. Your plot should start at 0 seconds and end at 1.5 seconds."
   ]
  },
  {
   "cell_type": "code",
   "execution_count": 10,
   "id": "20fb487f-8038-4144-91d2-47da29212db5",
   "metadata": {},
   "outputs": [],
   "source": [
    "t = ...\n",
    "f = ...\n",
    "y = ...\n",
    "\n",
    "# plotting code goes here"
   ]
  },
  {
   "cell_type": "markdown",
   "id": "534f5d95-60fa-4086-bba9-8dfa5703a6c7",
   "metadata": {},
   "source": [
    "### Exercise 2: Simple Linear System"
   ]
  },
  {
   "cell_type": "code",
   "execution_count": null,
   "id": "74dcc715-c3b9-46ab-8d85-4568d9ad76ee",
   "metadata": {},
   "outputs": [],
   "source": [
    "# you can ignore the code in this cell\n",
    "import schemdraw\n",
    "import schemdraw.elements as elm\n",
    "with schemdraw.Drawing():\n",
    "    elm.SourceV().label(\"6V\")\n",
    "    elm.Resistor().right().label(\"1KΩ\")\n",
    "    elm.Resistor().down().label(\"$R_L$\")\n",
    "    elm.Line().left()\n",
    "    elm.Ground()"
   ]
  },
  {
   "cell_type": "markdown",
   "id": "54b3460f-e967-4cda-a78a-0c52994b3518",
   "metadata": {},
   "source": [
    "1. By hand, derive a function $P(R_L)$ which equals the power dissipated by $R_L$. Write this equation using LaTeX.\n",
    "2. By hand, solve for the optimal resistance to maximize the power dissipated by $R_L$. _Hint: you can box your solution in LaTeX using `\\box`_.\n",
    "3. Use `np.arange` (look it up!) to generate an array of integer resistances from $1\\Omega$ to $20K\\Omega$ in increments of $1 \\Omega$. Name this `resistances`. \n",
    "4. Generate an array `powers` which stores the corresponding power dissipated by $R_L$ for each resistance in `resistances`. You could do this with a for loop, but you don't need it!\n",
    "5. Find the index of the maximum element in the `powers` array. You can do this with a for-loop if you want. Another option is to use the `np.argmax` function, which will return the index of the array with the maximum value.\n",
    "6. Using the index you found in the previous step, find the resistance which has the maximum power. Name this variable `RL_max`."
   ]
  },
  {
   "cell_type": "code",
   "execution_count": 41,
   "id": "123d3a15-bba4-45d5-aa11-e5bab3cc4c7a",
   "metadata": {},
   "outputs": [],
   "source": [
    "# Write your code here\n",
    "resistances = ...\n",
    "powers = ...\n",
    "RL_max = ..."
   ]
  },
  {
   "cell_type": "markdown",
   "id": "723c1620-75df-4b76-ba43-88507831b0ad",
   "metadata": {},
   "source": [
    "Write your Markdown/LaTeX code in this box"
   ]
  },
  {
   "cell_type": "markdown",
   "id": "03dfe24d-0983-4053-8699-58f896ffe330",
   "metadata": {},
   "source": [
    "### Exercise 3\n",
    "\n",
    "Using the **basic numpy** functions, create the following functions:\n",
    "\n",
    "$$f_1 = 5 + e^{-\\frac{1}{2}t}sin(10t)$$\n",
    "\n",
    "$$f_2 = \\text{Square Wave with a period = 2 and amplitude = 1}$$\n",
    "\n",
    "Name them `f_1` and `f_2`. \n",
    "\n",
    "Plot these functions from 0-10 seconds with a reasonable number of sample points."
   ]
  },
  {
   "cell_type": "code",
   "execution_count": null,
   "id": "cae10e7a-61e3-4f73-890f-86e789522d4b",
   "metadata": {},
   "outputs": [],
   "source": [
    "def f_1(x):\n",
    "    ...\n",
    "\n",
    "def f_2(x):\n",
    "    ..."
   ]
  }
 ],
 "metadata": {
  "kernelspec": {
   "display_name": "Python 3 (ipykernel)",
   "language": "python",
   "name": "python3"
  },
  "language_info": {
   "codemirror_mode": {
    "name": "ipython",
    "version": 3
   },
   "file_extension": ".py",
   "mimetype": "text/x-python",
   "name": "python",
   "nbconvert_exporter": "python",
   "pygments_lexer": "ipython3",
   "version": "3.11.5"
  }
 },
 "nbformat": 4,
 "nbformat_minor": 5
}
