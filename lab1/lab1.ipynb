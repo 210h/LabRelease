{
 "cells": [
  {
   "cell_type": "markdown",
   "id": "c1e3a5fa-9e35-42dc-a185-a93b5f5f5965",
   "metadata": {},
   "source": [
    "# Lab 1"
   ]
  },
  {
   "cell_type": "code",
   "execution_count": 1,
   "id": "bf4faddf-5079-4816-ba5e-9cc11fbbf274",
   "metadata": {},
   "outputs": [],
   "source": [
    "import numpy as np\n",
    "import matplotlib.pyplot as plt"
   ]
  },
  {
   "cell_type": "markdown",
   "id": "641d1e6f-d2bb-42f3-8b3b-b99ad4ef424c",
   "metadata": {},
   "source": [
    "## Vectorization with Numpy\n",
    "\n",
    "One of the advantages of using numpy is its vectorization ability. You've already played around with vectorization in lab 0.\n",
    "\n",
    "For example, suppose you're trying to compute $f(x) = \\cos (x)$ for $x \\in [0, 10)$. One way to do this would be to first build the range of x values, and iterate through them one by one using a for loop to build the new array $f(x)$:"
   ]
  },
  {
   "cell_type": "code",
   "execution_count": null,
   "id": "7b256976-ed68-42a9-8bd5-58fc0d856793",
   "metadata": {},
   "outputs": [],
   "source": [
    "%%timeit\n",
    "def f(x):\n",
    "    return np.cos(x)\n",
    "    \n",
    "x_values = np.arange(0, 10, 10000)\n",
    "f_values = [] # make f an empty list\n",
    "\n",
    "for i in range(len(x_values)):\n",
    "    f_values.append(f(x_values[i]))"
   ]
  },
  {
   "cell_type": "markdown",
   "id": "65ef1624-9c79-426f-8e5f-eb320e7e3500",
   "metadata": {},
   "source": [
    "It would be much faster to instead treat $x$ like a vector, and apply a vector operation to all the values in $x$ at once. If you're curious about why, ask one of the CAs.\n",
    "\n",
    "In the above example, $x$ starts as a 1D numpy array - think of this as a vector. We can then apply scalar numpy operations (like cosine) to $x$, and it will compute them element wise:\n",
    "\n",
    "$$ x = [x_1, x_2, x_3, x_4, ...] $$\n",
    "\n",
    "$$ \\textrm{np.cos}(x) = [\\cos(x_1), \\cos(x_2), \\cos(x_3), ...]$$"
   ]
  },
  {
   "cell_type": "code",
   "execution_count": null,
   "id": "06aab7f5-d722-4b55-be94-23b72221021e",
   "metadata": {},
   "outputs": [],
   "source": [
    "%%timeit\n",
    "\n",
    "def f(x):\n",
    "    return np.cos(x)\n",
    "\n",
    "x_values = np.arange(0, 10, 10000)\n",
    "f_values = f(x_values)"
   ]
  },
  {
   "cell_type": "markdown",
   "id": "06ab30cd-4777-48a6-84e9-cab4991b54f6",
   "metadata": {},
   "source": [
    "This isn't the most scientific test (better profiling would move the function definition and input initialization out of the timed block), but it should show you that using numpy vectorization is around 30% faster for this example... it's often much faster.\n",
    "\n",
    "Another numpy feature you'll find useful this semester is the slice operator: this allows you to perform operations on subsections of a numpy vector. Use the syntax `array[start:stop:step]`:"
   ]
  },
  {
   "cell_type": "code",
   "execution_count": null,
   "id": "8b6c579f-7625-48b3-bd3d-af55ee8cb4f9",
   "metadata": {},
   "outputs": [],
   "source": [
    "numbers = np.arange(0, 10)\n",
    "print(f\"numbers: {numbers}\")\n",
    "print(f\"odd numbers under 8: {numbers[1:8:2]}\")"
   ]
  },
  {
   "cell_type": "markdown",
   "id": "956ef66a-3f56-4080-b4b4-3e64b54c060d",
   "metadata": {},
   "source": [
    "These same ideas extend to matrices (2D) and tensors (3D+) in numpy. You'll get to play around with this in Exercise 1."
   ]
  },
  {
   "cell_type": "markdown",
   "id": "ee411e6e-c500-4923-9dc5-96497cc45db6",
   "metadata": {},
   "source": [
    "## Exercises\n",
    "\n",
    "### Exercise 1\n",
    "\n",
    "1. Understand what `np.ones` does using the numpy documentation. Then, use manual array indexing to understand how the `chessboard` variable corresponds to the image shown.\n",
    "2. Using two nested for loops and the 2D nested array `chessboard[i, j]`, change `chessboard` into a chessboard pattern. The upper left hand corner should be a white colored square.\n",
    "3. In the second code box below, use numpy vectorization to construct an identical chessboard pattern. **You are only allowed to use two lines of code to do this.** "
   ]
  },
  {
   "cell_type": "code",
   "execution_count": null,
   "id": "d315eb33-a61c-4969-b593-838de52f16a0",
   "metadata": {},
   "outputs": [],
   "source": [
    "# For loop chessboard\n",
    "chessboard = np.ones((8, 8))\n",
    "\n",
    "# write your code here\n",
    "\n",
    "plt.imshow(chessboard, cmap='gray');"
   ]
  },
  {
   "cell_type": "code",
   "execution_count": null,
   "id": "1f0434e8-8e3f-4e53-80ed-3066c262ee86",
   "metadata": {},
   "outputs": [],
   "source": [
    "# Vectorized chessboard\n",
    "chessboard = np.zeros((8, 8))\n",
    "\n",
    "# write your code here\n",
    "\n",
    "plt.imshow(chessboard, cmap=\"gray\");"
   ]
  },
  {
   "cell_type": "markdown",
   "id": "be731346-2520-4d1c-97a7-43cf3591fab2",
   "metadata": {},
   "source": [
    "### Exercise 2\n",
    "\n",
    "1. Set up three KVL equations using the loop current method (choose all three loops to be clockwise). Write them in the LaTeX box below.\n",
    "\n",
    "2. Rearrange each of your equations such that they are in the form: $$(R_w + R_x) I_a + (R_y + R_z) I_b + ... = C$$ for some constant $C$. Symbolic expressions are preferred but not required.\n",
    "\n",
    "3. Let's set up a matrix multiplication equation! Construct a 3x3 matrix $R$ and a vector of length 3 $V$ such that:\n",
    "\n",
    "$$R\\begin{pmatrix}\n",
    "I_1\\\\\n",
    "I_2\\\\\n",
    "I_3\n",
    "\\end{pmatrix} = V$$\n",
    "\n",
    "**Use `pmatrix` in LaTeX to write your matrices out in the LaTeX box below.** \n",
    "\n",
    "_Hint: each row should correspond to one of your equations._\n",
    "\n",
    "4. Using Python, assign the values you derived by hand to the `R` and `V` matrices.\n",
    "\n",
    "5. We can solve linear algebra equations of form $A x = b$ using the built-in solver `np.linalg.solve` (use numpy documentation to figure out how). Assign the three current values to the variable `I`.\n",
    "\n",
    "You should know how to solve the system of equations by hand for Exam 1, but we won't require you to do so for this assignment. \n",
    "\n",
    "6. In the LaTeX box below, compute the power absorbed by each of the sources in the circuit. Don't forget to include the sign in your solution, and include units!"
   ]
  },
  {
   "cell_type": "markdown",
   "id": "619642f2-8ec1-404d-b044-97a8910fcf53",
   "metadata": {},
   "source": [
    "![If you can see this, something went wrong loading the circuit schematic](https://i.ibb.co/vBKYqDw/Screenshot-2024-02-03-at-1-27-58-PM.png)\n",
    "\n",
    "$R_1 = 1 \\Omega, R_2 = 2 \\Omega, R_3 = 3 \\Omega, R_4 = 4 \\Omega$"
   ]
  },
  {
   "cell_type": "markdown",
   "id": "0c0ad804-b4e4-4f62-aab0-dab67daf18c4",
   "metadata": {},
   "source": [
    "Write your equations in this box."
   ]
  },
  {
   "cell_type": "code",
   "execution_count": 7,
   "id": "711cf674-482d-4b1f-9fae-5251a823c510",
   "metadata": {},
   "outputs": [],
   "source": [
    "# Write your code in this box\n",
    "\n",
    "R = ...\n",
    "V = ...\n",
    "I = ..."
   ]
  },
  {
   "cell_type": "markdown",
   "id": "a990e7bb-0efd-4748-8361-d33064c12981",
   "metadata": {},
   "source": [
    "### Exercise 3\n",
    "\n",
    "Python and numpy have great support for complex numbers. You can express complex numbers using `a + bj` notation, where either `a` or `b` can be 0. \n",
    "\n",
    "1. Write a function `sinusoid` which takes two arguments, and returns $e^{j \\omega t}$. This function should work for vector or scalar inputs.\n",
    "2. Plot the real component and imaginary component of $sinusoid(2, t \\in [0, 10])$ on the same plot. _Hint: [https://docs.python.org/3/library/cmath.html](https://docs.python.org/3/library/cmath.html)_"
   ]
  },
  {
   "cell_type": "code",
   "execution_count": 8,
   "id": "63f23c17-bb68-4d9b-a791-1cb0357d4b1b",
   "metadata": {},
   "outputs": [],
   "source": [
    "# write your code in this box\n",
    "def sinusoid(w, t):\n",
    "    ..."
   ]
  }
 ],
 "metadata": {
  "kernelspec": {
   "display_name": "Python 3 (ipykernel)",
   "language": "python",
   "name": "python3"
  },
  "language_info": {
   "codemirror_mode": {
    "name": "ipython",
    "version": 3
   },
   "file_extension": ".py",
   "mimetype": "text/x-python",
   "name": "python",
   "nbconvert_exporter": "python",
   "pygments_lexer": "ipython3",
   "version": "3.12.2"
  }
 },
 "nbformat": 4,
 "nbformat_minor": 5
}
