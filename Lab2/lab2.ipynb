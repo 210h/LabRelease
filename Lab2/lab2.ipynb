{
 "cells": [
  {
   "cell_type": "markdown",
   "id": "2816b8f7-5acb-4df3-be53-5d82c89fb169",
   "metadata": {},
   "source": [
    "# Lab 2"
   ]
  },
  {
   "cell_type": "code",
   "execution_count": 1,
   "id": "9c8d2d72-2539-4f9f-b97e-08d621877063",
   "metadata": {},
   "outputs": [],
   "source": [
    "import numpy as np\n",
    "import matplotlib.pyplot as plt\n",
    "from IPython.display import Audio"
   ]
  },
  {
   "cell_type": "markdown",
   "id": "30f7df5e-7b53-4024-88a0-85996784d5e8",
   "metadata": {},
   "source": [
    "### Exercise 1 - Phasors Review\n",
    "\n",
    "Consider the prototype circuit below:\n",
    "\n",
    "![2.1 Circuit](https://i.ibb.co/6YGSbGZ/Screenshot-2024-02-13-at-6-53-11-PM.png)\n",
    "\n",
    "1. Write the (complex) impedence of each passive component in the circuit. Use $R$ for the resistance, and $C$ for the capacitance present in the circuit.\n",
    "\n",
    "2. Form a KVL equation for the circuit. Assume that the input voltage has an amplitude $V$.\n",
    "\n",
    "3. Determine the voltage present over the resistor $V_{R1}$ in phasor form as a function of the angular frequency $\\omega$ of the input signal $V(t)$.\n",
    "\n",
    "4. Assume that $V = 1, R = 1000\\Omega, C = 100uF$. Recall that the angular frequency follows the relation $\\omega = 2 \\pi f$ where $f$ is frequency in Hz. Plot the **amplitude** of the output signal $V_R$ as a function of $\\omega$ using a \"log scale.\" That is, plot $\\log_{10} \\omega$ vs $\\log_{10} V_R$ for **frequency range (not angular frequency range)** $f \\in [10, 20000)$. In one sentence, what do you observe?"
   ]
  },
  {
   "cell_type": "markdown",
   "id": "32640332-c9af-4e6b-b83f-df80bd8d2384",
   "metadata": {},
   "source": [
    "Put your written solution in this box."
   ]
  },
  {
   "cell_type": "code",
   "execution_count": 4,
   "id": "668651ff-a048-4c9a-8a1e-20e19225a204",
   "metadata": {},
   "outputs": [],
   "source": [
    "# Write your code here\n",
    "def V_R1(omega):\n",
    "    ..."
   ]
  },
  {
   "cell_type": "markdown",
   "id": "2b032dbf-19e3-42ee-b4ef-d15455bf55b1",
   "metadata": {},
   "source": [
    "### Exercise 2: Superposition Practice\n",
    "\n",
    "Observe the circuit below. \n",
    "\n",
    "![2.2 Circuit](https://i.ibb.co/XsKzZ3K/Screenshot-2024-02-13-at-8-02-42-PM.png)\n",
    "\n",
    "Assume $R_2 = 8 \\Omega, R_3 = 16 \\Omega, L_1 = 2 H, C_2 = \\frac{1}{16} F$.\n",
    "\n",
    "1. Write out the phasor representation of the circuit in equation form (write enough equations to uniquely represent the circuit). \n",
    "\n",
    "2. Solve for the output voltage $V_{out}$ as a function of the input voltage $V_2$ using phasor representation.\n",
    "\n",
    "3. Suppose $V_2(t) = 3 \\cos (3t) + 2 \\cos (2 t)$. Plot $V_2(t)$ as a function of time over $10$ seconds with $1000$ points.\n",
    "\n",
    "4. Express $V_2(t)$ as the sum of exponentials of form $e^{\\pm j \\omega t}$ (that is, remove the cosines).\n",
    "\n",
    "5. For each exponential, use your phasor equation to determine the corresponding output phasor signal at steady state.\n",
    "\n",
    "6. For each exponential, convert from phasor form back to standard time domain functions.\n",
    "\n",
    "7. Using the previous steps, find $V_{out}(t)$ and plot it over $10$ seconds"
   ]
  },
  {
   "cell_type": "markdown",
   "id": "046359b4-cc4a-48f8-9714-9702644c1171",
   "metadata": {},
   "source": [
    "Write your written solution in this box"
   ]
  },
  {
   "cell_type": "code",
   "execution_count": 3,
   "id": "0b3d1832-b52f-4bfb-a9f6-9511fd96d57b",
   "metadata": {},
   "outputs": [],
   "source": [
    "# Write your Python code here\n",
    "V2 = ...\n",
    "\n",
    "def V_out(V_in, omega):\n",
    "    ...\n",
    "\n",
    "V2_out = ..."
   ]
  },
  {
   "cell_type": "markdown",
   "id": "92af3b8d-6dd8-458d-8271-3e4d5d08bf45",
   "metadata": {},
   "source": [
    "### Exercise 3: Audio Superposition and Filtering\n",
    "\n",
    "#### Background\n",
    "\n",
    "**Warning: please turn down your speakers before starting work on this section. The audio output can be loud, especially if there are errors in your logic.**\n",
    "\n",
    "Sound is made of vibrations in the air, which eventually reach your ear. One of the simplest sounds to produce using Python is a sine wave. \n",
    "\n",
    "Let's say we want to play a sine wave with a frequency of $440 Hz$  for 3 seconds ($440 Hz = 880\\pi \\frac{rads}{s}$). We need some way of telling Python the value $\\sin (880\\pi t)$ for each $t \\in [0, 3]$. \n",
    "\n",
    "Since we obviously cannot specify $\\sin (880\\pi t)$ for every single time in the closed interval, Python instead asks us to give us $\\sin (880\\pi t)$ measurements with evenly spaced values of t. This spacing is called the **sampling period** - the computer asks us for a related quantity, the sampling rate, defined as $\\frac{1}{\\textrm{sampling period}}$.\n",
    "\n",
    "In the below code example, you can see how `t` generates these evenly spaced values for sine based on the sampling rate. We then compute $\\sin (880\\pi t)$ for each value of `t`. Finally, we use the 'Audio' function to play this audio using the array of sine values `wave_audio` and the sampling rate `sr`. \n",
    "\n",
    "Make sure you understand this code before moving on to the actual exercise. "
   ]
  },
  {
   "cell_type": "code",
   "execution_count": null,
   "id": "0f496050-be26-4e68-a5b0-af2fdc7195cb",
   "metadata": {},
   "outputs": [],
   "source": [
    "######################################################\n",
    "### DO NOT WRITE CODE HERE: THIS BOX IS NOT GRADED ###\n",
    "######################################################\n",
    "\n",
    "# We chose this for you\n",
    "sr = 20000\n",
    "time = 5\n",
    "\n",
    "# Generate evenly spaced values for t\n",
    "t = np.linspace(0, time, sr * time)\n",
    "\n",
    "# For each value of t, compute sin(880pi t)\n",
    "wave_audio = np.sin(880 * np.pi * t)\n",
    "\n",
    "plt.plot(t[0:100], wave_audio[0:100]);\n",
    "\n",
    "Audio(wave_audio, rate=sr)"
   ]
  },
  {
   "cell_type": "markdown",
   "id": "475dbc60-7c3b-413f-9c87-9ab72b2cc5b7",
   "metadata": {},
   "source": [
    "#### Graded Portion\n",
    "\n",
    "1. Let's start by synthesizing a major triad, with the root at 440 Hz. You can do this by adding together three sine waves with frequencies $pitch * 1, pitch * 3/2$ and $pitch * 5/4$ respectively. Your audio vector should be called `major_audio` with a duration of five seconds.\n",
    "   \n",
    "2. Substitute $\\omega = 2 \\pi f$ into your solution for Part 3 of Exercise 1. You should now have a function $V_R(f)$, for a sinusoidal input of frequency $f$.\n",
    "\n",
    "3. Given a single sine wave with frequency $f$, find the zero-state time domain solution to $V_R(t)$. Implement this as a Python function $V_R(f, t)$ which accepts a scalar `f` and vector `t`.\n",
    "\n",
    "4. Using Python, compute $V_R(f, t)$ for each of the three sine waves in the chord.\n",
    "\n",
    "5. Generate `filtered_audio`, the result of feeding the major triad signal into the Exercise 1 circuit and listening to the output at $V_R$. _Hint: use the principle of superposition to generate filtered audio from your answer in part 4_.\n",
    "\n",
    "6. Does your audio sound any different? If you notice a difference, does it make sense why you hear this difference?"
   ]
  },
  {
   "cell_type": "markdown",
   "id": "9923bd7c-d1a9-40a1-aac1-818fb79f2216",
   "metadata": {},
   "source": [
    "Write your written solution here"
   ]
  },
  {
   "cell_type": "code",
   "execution_count": null,
   "id": "4cce5d4a-361a-49e2-87c8-d20f02053695",
   "metadata": {},
   "outputs": [],
   "source": [
    "sr = 20000\n",
    "pitch = 440\n",
    "# Write your code below\n",
    "\n",
    "major_audio = ...\n",
    "\n",
    "def V_R(f, t):\n",
    "    ...\n",
    "\n",
    "filtered_audio = ..."
   ]
  }
 ],
 "metadata": {
  "kernelspec": {
   "display_name": "Python 3 (ipykernel)",
   "language": "python",
   "name": "python3"
  },
  "language_info": {
   "codemirror_mode": {
    "name": "ipython",
    "version": 3
   },
   "file_extension": ".py",
   "mimetype": "text/x-python",
   "name": "python",
   "nbconvert_exporter": "python",
   "pygments_lexer": "ipython3",
   "version": "3.12.2"
  }
 },
 "nbformat": 4,
 "nbformat_minor": 5
}
